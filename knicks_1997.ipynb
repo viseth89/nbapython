{
 "cells": [
  {
   "cell_type": "markdown",
   "metadata": {},
   "source": [
    "# Analysis of the 1996-97 New York Knicks"
   ]
  },
  {
   "cell_type": "code",
   "execution_count": 1,
   "metadata": {
    "collapsed": true
   },
   "outputs": [],
   "source": [
    "import matplotlib.pyplot as plt\n",
    "import matplotlib.style as style\n",
    "import numpy as np\n",
    "import pandas as pd"
   ]
  },
  {
   "cell_type": "code",
   "execution_count": 2,
   "metadata": {
    "collapsed": false
   },
   "outputs": [
    {
     "data": {
      "text/html": [
       "<style>body {\n",
       "    margin: 0;\n",
       "    font-family: Helvetica;\n",
       "}\n",
       "table.dataframe {\n",
       "    border-collapse: collapse;\n",
       "    border: none;\n",
       "}\n",
       "table.dataframe tr {\n",
       "    border: none;\n",
       "}\n",
       "table.dataframe td, table.dataframe th {\n",
       "    margin: 0;\n",
       "    border: 1px solid white;\n",
       "    padding-left: 0.25em;\n",
       "    padding-right: 0.25em;\n",
       "}\n",
       "table.dataframe th:not(:empty) {\n",
       "    background-color: #fec;\n",
       "    text-align: left;\n",
       "    font-weight: normal;\n",
       "}\n",
       "table.dataframe tr:nth-child(2) th:empty {\n",
       "    border-left: none;\n",
       "    border-right: 1px dashed #888;\n",
       "}\n",
       "table.dataframe td {\n",
       "    border: 2px solid #ccf;\n",
       "    background-color: #f4f4ff;\n",
       "}\n",
       "h3 {\n",
       "    color: white;\n",
       "    background-color: black;\n",
       "    padding: 0.5em;\n",
       "}\n",
       "</style>"
      ],
      "text/plain": [
       "<IPython.core.display.HTML object>"
      ]
     },
     "execution_count": 2,
     "metadata": {},
     "output_type": "execute_result"
    }
   ],
   "source": [
    "from IPython.core.display import HTML\n",
    "css = open('style-table.css').read() + open('style-notebook.css').read()\n",
    "HTML('<style>{}</style>'.format(css))"
   ]
  },
  {
   "cell_type": "markdown",
   "metadata": {},
   "source": [
    "## Importing 4 Essentials and styles to make the charts/tables easier to view"
   ]
  },
  {
   "cell_type": "code",
   "execution_count": 3,
   "metadata": {
    "collapsed": false
   },
   "outputs": [],
   "source": [
    "team = pd.DataFrame.from_csv('knicks1997.csv', encoding='utf-8')"
   ]
  },
  {
   "cell_type": "code",
   "execution_count": 4,
   "metadata": {
    "collapsed": false
   },
   "outputs": [],
   "source": [
    "t = team"
   ]
  },
  {
   "cell_type": "markdown",
   "metadata": {},
   "source": [
    "## Storing CSV -> into team Variable -> Stored as t for easier manipulation/calling"
   ]
  },
  {
   "cell_type": "markdown",
   "metadata": {},
   "source": [
    "### Storing Wins and Losses, Assists, Total Rebounds, Offensive Rebounds, Turnovers, Steals, Blocks"
   ]
  },
  {
   "cell_type": "code",
   "execution_count": 5,
   "metadata": {
    "collapsed": false
   },
   "outputs": [],
   "source": [
    "wins = t[t[\"W/L\"]=='W']\n",
    "loss = t[t['W/L']=='L']\n",
    "assist_w=t[t['AST']>t['AST.1']]\n",
    "assist_l=t[t['AST']<t['AST.1']]\n",
    "trebounds_w=t[t['TRB']>t['TRB.1']]\n",
    "trebounds_l=t[t['TRB']<t['TRB.1']]\n",
    "orb_w=t[t['ORB']>t['ORB.1']]\n",
    "orb_l=t[t['ORB']<t['ORB.1']]\n",
    "to_w=t[t['TOV']>t['TOV.1']]\n",
    "to_l=t[t['TOV']<t['TOV.1']]\n",
    "stl_w=t[t['STL']>t['STL.1']]\n",
    "stl_l=t[t['STL']<t['STL.1']]\n",
    "blk_w=t[t['BLK']>t['BLK.1']]\n",
    "blk_l=t[t['BLK']<t['BLK.1']]"
   ]
  },
  {
   "cell_type": "markdown",
   "metadata": {},
   "source": [
    "### Storing Rebounds won & Storing Assists won"
   ]
  },
  {
   "cell_type": "code",
   "execution_count": 6,
   "metadata": {
    "collapsed": true
   },
   "outputs": [],
   "source": [
    "wrebounds_w=trebounds_w[trebounds_w[\"W/L\"] ==\"W\"]\n",
    "wassist_w=assist_w[assist_w['W/L']=='W']"
   ]
  },
  {
   "cell_type": "markdown",
   "metadata": {},
   "source": [
    "### Storing Games with Both Assists and Rebounds Edge"
   ]
  },
  {
   "cell_type": "code",
   "execution_count": 7,
   "metadata": {
    "collapsed": true
   },
   "outputs": [],
   "source": [
    "astreb = assist_w[assist_w['TRB'] > assist_w['TRB.1']]"
   ]
  },
  {
   "cell_type": "markdown",
   "metadata": {},
   "source": [
    "### Storing Games Won with Both Assists and Rebounds Edge"
   ]
  },
  {
   "cell_type": "code",
   "execution_count": 8,
   "metadata": {
    "collapsed": true
   },
   "outputs": [],
   "source": [
    "astrebw = astreb[astreb['W/L']=='W']"
   ]
  },
  {
   "cell_type": "code",
   "execution_count": 9,
   "metadata": {
    "collapsed": false
   },
   "outputs": [
    {
     "name": "stdout",
     "output_type": "stream",
     "text": [
      "The Team won : 43 Games\n",
      "The Team lost : 39 Games\n",
      "\n",
      "The Team got more Assists than the Opponents: 52 Games\n",
      "The Team got less Assists than the Opponents: 25 Games\n",
      "\n",
      "The Team got more Rebounded the Opponents: 53 Games\n",
      "The Team got less Rebounded by the Opponents: 28 Games\n",
      "\n",
      "The Team got more Offensive Rebounds than the Opponents: 47 Games\n",
      "The Team got less Offensive Rebounds than the Opponents: 26 Games\n",
      "\n",
      "The Team Turned Over the Ball less than the opponents in: 40 Games\n",
      "The Team Turned Over the Ball more than the opponents in: 40 Games\n",
      "\n",
      "The Team got more Steals than the Opponents: 40 Games\n",
      "The Team got less Steals than the Opponents: 33 Games\n",
      "\n",
      "The Team got more Blocks than the Opponents: 30 Games\n",
      "The Team got less Blocks than the Opponents: 41 Games\n",
      "\n",
      "With the edge in Rebounding in, they were able to capitalize in 33 of 53\n",
      "A Percentage of 0.6226415094339622 percent\n",
      "\n",
      "With the edge in Assist in, they were able to capitalize in 36 of 52\n",
      "A Percentage of 0.6923076923076923 percent\n",
      "\n",
      "With the edge in Rebounding in and assist, they were able to capitalize in  28 of 33\n",
      "A Percentage of 0.8484848484848485 percent\n"
     ]
    }
   ],
   "source": [
    "wpct = (len(wrebounds_w)) / (len(trebounds_w))\n",
    "wwpct = (len(wassist_w)) / (len(assist_w))\n",
    "wwwpct = len(astrebw)/len(astreb)\n",
    "\n",
    "print (\"The Team won :\", str(len(wins)), 'Games')\n",
    "print (\"The Team lost :\", str(len(loss)), 'Games')\n",
    "print ()\n",
    "print (\"The Team got more Assists than the Opponents:\", str(len(assist_w)), 'Games')\n",
    "print (\"The Team got less Assists than the Opponents:\", str(len(assist_l)), 'Games')\n",
    "print()\n",
    "print (\"The Team got more Rebounded the Opponents:\", str(len(trebounds_w)), 'Games')\n",
    "print (\"The Team got less Rebounded by the Opponents:\", str(len(trebounds_l)), 'Games')\n",
    "print()\n",
    "print (\"The Team got more Offensive Rebounds than the Opponents:\", str(len(orb_w)), 'Games')\n",
    "print (\"The Team got less Offensive Rebounds than the Opponents:\", str(len(orb_l)), 'Games')\n",
    "print()\n",
    "print (\"The Team Turned Over the Ball less than the opponents in:\", str(len(to_w)), 'Games')\n",
    "print (\"The Team Turned Over the Ball more than the opponents in:\", str(len(to_w)), 'Games')\n",
    "print()\n",
    "print (\"The Team got more Steals than the Opponents:\", str(len(stl_w)), 'Games')\n",
    "print (\"The Team got less Steals than the Opponents:\", str(len(stl_l)), 'Games')\n",
    "print()\n",
    "print (\"The Team got more Blocks than the Opponents:\", str(len(blk_w)), 'Games')\n",
    "print (\"The Team got less Blocks than the Opponents:\", str(len(blk_l)), 'Games')\n",
    "print()\n",
    "print(\"With the edge in Rebounding in, they were able to capitalize in\", str(len(wrebounds_w)), 'of' , str(len(trebounds_w)))\n",
    "print('A Percentage of', str(wpct), 'percent')\n",
    "print()\n",
    "print(\"With the edge in Assist in, they were able to capitalize in\", str(len(wassist_w)), 'of' , str(len(assist_w)))\n",
    "print('A Percentage of', str(wwpct), 'percent')\n",
    "print()\n",
    "print(\"With the edge in Rebounding in and assist, they were able to capitalize in \", str(len(astrebw)), 'of' , str(len(astreb)))\n",
    "print('A Percentage of', str(wwwpct), 'percent')\n"
   ]
  },
  {
   "cell_type": "code",
   "execution_count": null,
   "metadata": {
    "collapsed": true
   },
   "outputs": [],
   "source": []
  },
  {
   "cell_type": "code",
   "execution_count": null,
   "metadata": {
    "collapsed": true
   },
   "outputs": [],
   "source": []
  }
 ],
 "metadata": {
  "anaconda-cloud": {},
  "kernelspec": {
   "display_name": "Python [conda root]",
   "language": "python",
   "name": "conda-root-py"
  },
  "language_info": {
   "codemirror_mode": {
    "name": "ipython",
    "version": 3
   },
   "file_extension": ".py",
   "mimetype": "text/x-python",
   "name": "python",
   "nbconvert_exporter": "python",
   "pygments_lexer": "ipython3",
   "version": "3.5.2"
  }
 },
 "nbformat": 4,
 "nbformat_minor": 1
}
