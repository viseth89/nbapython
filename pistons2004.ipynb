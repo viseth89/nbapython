{
 "cells": [
  {
   "cell_type": "code",
   "execution_count": 1,
   "metadata": {
    "collapsed": true
   },
   "outputs": [],
   "source": [
    "import pandas as pd\n",
    "import numpy as np\n",
    "import matplotlib.pyplot as plt\n",
    "import matplotlib.style as style\n",
    "import json\n",
    "%matplotlib inline"
   ]
  },
  {
   "cell_type": "code",
   "execution_count": 2,
   "metadata": {
    "collapsed": false
   },
   "outputs": [
    {
     "data": {
      "text/html": [
       "<style>body {\n",
       "    margin: 0;\n",
       "    font-family: Helvetica;\n",
       "}\n",
       "table.dataframe {\n",
       "    border-collapse: collapse;\n",
       "    border: none;\n",
       "}\n",
       "table.dataframe tr {\n",
       "    border: none;\n",
       "}\n",
       "table.dataframe td, table.dataframe th {\n",
       "    margin: 0;\n",
       "    border: 1px solid white;\n",
       "    padding-left: 0.25em;\n",
       "    padding-right: 0.25em;\n",
       "}\n",
       "table.dataframe th:not(:empty) {\n",
       "    background-color: #fec;\n",
       "    text-align: left;\n",
       "    font-weight: normal;\n",
       "}\n",
       "table.dataframe tr:nth-child(2) th:empty {\n",
       "    border-left: none;\n",
       "    border-right: 1px dashed #888;\n",
       "}\n",
       "table.dataframe td {\n",
       "    border: 2px solid #ccf;\n",
       "    background-color: #f4f4ff;\n",
       "}\n",
       "h3 {\n",
       "    color: white;\n",
       "    background-color: black;\n",
       "    padding: 0.5em;\n",
       "}\n",
       "</style>"
      ],
      "text/plain": [
       "<IPython.core.display.HTML object>"
      ]
     },
     "execution_count": 2,
     "metadata": {},
     "output_type": "execute_result"
    }
   ],
   "source": [
    "from IPython.core.display import HTML\n",
    "css = open('style-table.css').read() + open('style-notebook.css').read()\n",
    "HTML('<style>{}</style>'.format(css))\n",
    "# learned from youtube video brandon rhodes on pandas"
   ]
  },
  {
   "cell_type": "code",
   "execution_count": 3,
   "metadata": {
    "collapsed": true
   },
   "outputs": [],
   "source": [
    "df = pd.read_csv('data/warriors2015.csv')"
   ]
  },
  {
   "cell_type": "code",
   "execution_count": 20,
   "metadata": {
    "collapsed": false
   },
   "outputs": [],
   "source": [
    "t = df"
   ]
  },
  {
   "cell_type": "code",
   "execution_count": 21,
   "metadata": {
    "collapsed": true
   },
   "outputs": [],
   "source": [
    "wins = t[t[\"W/L\"]=='W']\n",
    "loss = t[t['W/L']=='L']\n",
    "assist_w=t[t['AST']>t['AST.1']]\n",
    "assist_l=t[t['AST']<t['AST.1']]\n",
    "trebounds_w=t[t['TRB']>t['TRB.1']]\n",
    "trebounds_l=t[t['TRB']<t['TRB.1']]\n",
    "orb_w=t[t['ORB']>t['ORB.1']]\n",
    "orb_l=t[t['ORB']<t['ORB.1']]\n",
    "to_w=t[t['TOV']>t['TOV.1']]\n",
    "to_l=t[t['TOV']<t['TOV.1']]\n",
    "stl_w=t[t['STL']>t['STL.1']]\n",
    "stl_l=t[t['STL']<t['STL.1']]\n",
    "blk_w=t[t['BLK']>t['BLK.1']]\n",
    "blk_l=t[t['BLK']<t['BLK.1']]"
   ]
  },
  {
   "cell_type": "code",
   "execution_count": 22,
   "metadata": {
    "collapsed": true
   },
   "outputs": [],
   "source": [
    "wrebounds_w=trebounds_w[trebounds_w[\"W/L\"] ==\"W\"]\n",
    "wassist_w=assist_w[assist_w['W/L']=='W']"
   ]
  },
  {
   "cell_type": "code",
   "execution_count": 23,
   "metadata": {
    "collapsed": true
   },
   "outputs": [],
   "source": [
    "astreb = assist_w[assist_w['TRB'] > assist_w['TRB.1']]"
   ]
  },
  {
   "cell_type": "code",
   "execution_count": 24,
   "metadata": {
    "collapsed": true
   },
   "outputs": [],
   "source": [
    "astrebw = astreb[astreb['W/L']=='W']"
   ]
  },
  {
   "cell_type": "code",
   "execution_count": 25,
   "metadata": {
    "collapsed": false
   },
   "outputs": [
    {
     "name": "stdout",
     "output_type": "stream",
     "text": [
      "The Team won : 67 Games\n",
      "The Team lost : 15 Games\n",
      "\n",
      "The Team got more Assists than the Opponents: 67 Games\n",
      "The Team got less Assists than the Opponents: 12 Games\n",
      "\n",
      "The Team got more Rebounded the Opponents: 41 Games\n",
      "The Team got less Rebounded by the Opponents: 38 Games\n",
      "\n",
      "The Team got more Offensive Rebounds than the Opponents: 29 Games\n",
      "The Team got less Offensive Rebounds than the Opponents: 51 Games\n",
      "\n",
      "The Team Turned Over the Ball less than the opponents in: 30 Games\n",
      "The Team Turned Over the Ball more than the opponents in: 30 Games\n",
      "\n",
      "The Team got more Steals than the Opponents: 48 Games\n",
      "The Team got less Steals than the Opponents: 24 Games\n",
      "\n",
      "The Team got more Blocks than the Opponents: 65 Games\n",
      "The Team got less Blocks than the Opponents: 10 Games\n",
      "\n",
      "With the edge in Rebounding in, they were able to capitalize in 36 of 41\n",
      "A Percentage of 0.8780487804878049 percent\n",
      "\n",
      "With the edge in Assist in, they were able to capitalize in 61 of 67\n",
      "A Percentage of 0.9104477611940298 percent\n",
      "\n",
      "With the edge in Rebounding in and assist, they were able to capitalize in  32 of 34\n",
      "A Percentage of 0.9411764705882353 percent\n"
     ]
    }
   ],
   "source": [
    "wpct = (len(wrebounds_w)) / (len(trebounds_w))\n",
    "wwpct = (len(wassist_w)) / (len(assist_w))\n",
    "wwwpct = len(astrebw)/len(astreb)\n",
    "\n",
    "print (\"The Team won :\", str(len(wins)), 'Games')\n",
    "print (\"The Team lost :\", str(len(loss)), 'Games')\n",
    "print ()\n",
    "print (\"The Team got more Assists than the Opponents:\", str(len(assist_w)), 'Games')\n",
    "print (\"The Team got less Assists than the Opponents:\", str(len(assist_l)), 'Games')\n",
    "print()\n",
    "print (\"The Team got more Rebounded the Opponents:\", str(len(trebounds_w)), 'Games')\n",
    "print (\"The Team got less Rebounded by the Opponents:\", str(len(trebounds_l)), 'Games')\n",
    "print()\n",
    "print (\"The Team got more Offensive Rebounds than the Opponents:\", str(len(orb_w)), 'Games')\n",
    "print (\"The Team got less Offensive Rebounds than the Opponents:\", str(len(orb_l)), 'Games')\n",
    "print()\n",
    "print (\"The Team Turned Over the Ball less than the opponents in:\", str(len(to_w)), 'Games')\n",
    "print (\"The Team Turned Over the Ball more than the opponents in:\", str(len(to_w)), 'Games')\n",
    "print()\n",
    "print (\"The Team got more Steals than the Opponents:\", str(len(stl_w)), 'Games')\n",
    "print (\"The Team got less Steals than the Opponents:\", str(len(stl_l)), 'Games')\n",
    "print()\n",
    "print (\"The Team got more Blocks than the Opponents:\", str(len(blk_w)), 'Games')\n",
    "print (\"The Team got less Blocks than the Opponents:\", str(len(blk_l)), 'Games')\n",
    "print()\n",
    "print(\"With the edge in Rebounding in, they were able to capitalize in\", str(len(wrebounds_w)), 'of' , str(len(trebounds_w)))\n",
    "print('A Percentage of', str(wpct), 'percent')\n",
    "print()\n",
    "print(\"With the edge in Assist in, they were able to capitalize in\", str(len(wassist_w)), 'of' , str(len(assist_w)))\n",
    "print('A Percentage of', str(wwpct), 'percent')\n",
    "print()\n",
    "print(\"With the edge in Rebounding in and assist, they were able to capitalize in \", str(len(astrebw)), 'of' , str(len(astreb)))\n",
    "print('A Percentage of', str(wwwpct), 'percent')\n",
    "\n"
   ]
  },
  {
   "cell_type": "code",
   "execution_count": null,
   "metadata": {
    "collapsed": true
   },
   "outputs": [],
   "source": []
  },
  {
   "cell_type": "code",
   "execution_count": null,
   "metadata": {
    "collapsed": true
   },
   "outputs": [],
   "source": []
  },
  {
   "cell_type": "code",
   "execution_count": null,
   "metadata": {
    "collapsed": true
   },
   "outputs": [],
   "source": []
  },
  {
   "cell_type": "code",
   "execution_count": 19,
   "metadata": {
    "collapsed": false
   },
   "outputs": [
    {
     "ename": "NameError",
     "evalue": "name 'trebounds_w' is not defined",
     "output_type": "error",
     "traceback": [
      "\u001b[0;31m---------------------------------------------------------------------------\u001b[0m",
      "\u001b[0;31mNameError\u001b[0m                                 Traceback (most recent call last)",
      "\u001b[0;32m<ipython-input-19-55cb330c99b4>\u001b[0m in \u001b[0;36m<module>\u001b[0;34m()\u001b[0m\n\u001b[1;32m     14\u001b[0m     \u001b[0;34m'blk_w'\u001b[0m\u001b[0;34m:\u001b[0m\u001b[0mdf\u001b[0m\u001b[0;34m[\u001b[0m\u001b[0mdf\u001b[0m\u001b[0;34m[\u001b[0m\u001b[0;34m'BLK'\u001b[0m\u001b[0;34m]\u001b[0m\u001b[0;34m>\u001b[0m\u001b[0mdf\u001b[0m\u001b[0;34m[\u001b[0m\u001b[0;34m'BLK.1'\u001b[0m\u001b[0;34m]\u001b[0m\u001b[0;34m]\u001b[0m\u001b[0;34m,\u001b[0m\u001b[0;34m\u001b[0m\u001b[0m\n\u001b[1;32m     15\u001b[0m     \u001b[0;34m'blk_l'\u001b[0m\u001b[0;34m:\u001b[0m\u001b[0mdf\u001b[0m\u001b[0;34m[\u001b[0m\u001b[0mdf\u001b[0m\u001b[0;34m[\u001b[0m\u001b[0;34m'BLK'\u001b[0m\u001b[0;34m]\u001b[0m\u001b[0;34m<\u001b[0m\u001b[0mdf\u001b[0m\u001b[0;34m[\u001b[0m\u001b[0;34m'BLK.1'\u001b[0m\u001b[0;34m]\u001b[0m\u001b[0;34m]\u001b[0m\u001b[0;34m,\u001b[0m\u001b[0;34m\u001b[0m\u001b[0m\n\u001b[0;32m---> 16\u001b[0;31m     \u001b[0;34m'wrebounds_w'\u001b[0m\u001b[0;34m:\u001b[0m\u001b[0mtrebounds_w\u001b[0m\u001b[0;34m[\u001b[0m\u001b[0mtrebounds_w\u001b[0m\u001b[0;34m[\u001b[0m\u001b[0;34m\"W/L\"\u001b[0m\u001b[0;34m]\u001b[0m \u001b[0;34m==\u001b[0m\u001b[0;34m\"W\"\u001b[0m\u001b[0;34m]\u001b[0m\u001b[0;34m,\u001b[0m\u001b[0;34m\u001b[0m\u001b[0m\n\u001b[0m\u001b[1;32m     17\u001b[0m     \u001b[0;34m'wassist_w'\u001b[0m\u001b[0;34m:\u001b[0m\u001b[0massist_w\u001b[0m\u001b[0;34m[\u001b[0m\u001b[0massist_w\u001b[0m\u001b[0;34m[\u001b[0m\u001b[0;34m'W/L'\u001b[0m\u001b[0;34m]\u001b[0m\u001b[0;34m==\u001b[0m\u001b[0;34m'W'\u001b[0m\u001b[0;34m]\u001b[0m\u001b[0;34m,\u001b[0m\u001b[0;34m\u001b[0m\u001b[0m\n\u001b[1;32m     18\u001b[0m     \u001b[0;34m'astreb'\u001b[0m \u001b[0;34m:\u001b[0m \u001b[0massist_w\u001b[0m\u001b[0;34m[\u001b[0m\u001b[0massist_w\u001b[0m\u001b[0;34m[\u001b[0m\u001b[0;34m'TRB'\u001b[0m\u001b[0;34m]\u001b[0m \u001b[0;34m>\u001b[0m \u001b[0massist_w\u001b[0m\u001b[0;34m[\u001b[0m\u001b[0;34m'TRB.1'\u001b[0m\u001b[0;34m]\u001b[0m\u001b[0;34m]\u001b[0m\u001b[0;34m,\u001b[0m\u001b[0;34m\u001b[0m\u001b[0m\n",
      "\u001b[0;31mNameError\u001b[0m: name 'trebounds_w' is not defined"
     ]
    }
   ],
   "source": [
    "stats = {\n",
    "    'wins' : df[df[\"W/L\"]=='W'],\n",
    "    'loss' : df[df['W/L']=='L'],\n",
    "    'assist_w':df[df['AST']>df['AST.1']],\n",
    "    'assist_l':df[df['AST']<df['AST.1']],\n",
    "    'trebounds_w':df[df['TRB']>df['TRB.1']],\n",
    "    'trebounds_l':df[df['TRB']<df['TRB.1']],\n",
    "    'orb_w':df[df['ORB']>df['ORB.1']],\n",
    "    'orb_l':df[df['ORB']<df['ORB.1']],\n",
    "    'to_w':df[df['TOV']>df['TOV.1']],\n",
    "    'to_l':df[df['TOV']<df['TOV.1']],\n",
    "    'stl_w':df[df['STL']>df['STL.1']],\n",
    "    'stl_l':df[df['STL']<df['STL.1']],\n",
    "    'blk_w':df[df['BLK']>df['BLK.1']],\n",
    "    'blk_l':df[df['BLK']<df['BLK.1']],\n",
    "    'wrebounds_w':trebounds_w[trebounds_w[\"W/L\"] ==\"W\"],\n",
    "    'wassist_w':assist_w[assist_w['W/L']=='W'],\n",
    "    'astreb' : assist_w[assist_w['TRB'] > assist_w['TRB.1']],\n",
    "    'astrebw' : astreb[astreb['W/L']=='W']\n",
    "}"
   ]
  },
  {
   "cell_type": "code",
   "execution_count": 18,
   "metadata": {
    "collapsed": false
   },
   "outputs": [
    {
     "name": "stdout",
     "output_type": "stream",
     "text": [
      "<class 'pandas.core.frame.DataFrame'>\n",
      "Int64Index: 15 entries, 5 to 77\n",
      "Data columns (total 41 columns):\n",
      "Rk             15 non-null int64\n",
      "G              15 non-null int64\n",
      "Date           15 non-null object\n",
      "Unnamed: 3     13 non-null object\n",
      "Opp            15 non-null object\n",
      "W/L            15 non-null object\n",
      "Tm             15 non-null int64\n",
      "Opp.1          15 non-null int64\n",
      "FG             15 non-null int64\n",
      "FGA            15 non-null int64\n",
      "FG%            15 non-null float64\n",
      "3P             15 non-null int64\n",
      "3PA            15 non-null int64\n",
      "3P%            15 non-null float64\n",
      "FT             15 non-null int64\n",
      "FTA            15 non-null int64\n",
      "FT%            15 non-null float64\n",
      "ORB            15 non-null int64\n",
      "TRB            15 non-null int64\n",
      "AST            15 non-null int64\n",
      "STL            15 non-null int64\n",
      "BLK            15 non-null int64\n",
      "TOV            15 non-null int64\n",
      "PF             15 non-null int64\n",
      "Unnamed: 24    0 non-null float64\n",
      "FG.1           15 non-null int64\n",
      "FGA.1          15 non-null int64\n",
      "FG%.1          15 non-null float64\n",
      "3P.1           15 non-null int64\n",
      "3PA.1          15 non-null int64\n",
      "3P%.1          15 non-null float64\n",
      "FT.1           15 non-null int64\n",
      "FTA.1          15 non-null int64\n",
      "FT%.1          15 non-null float64\n",
      "ORB.1          15 non-null int64\n",
      "TRB.1          15 non-null int64\n",
      "AST.1          15 non-null int64\n",
      "STL.1          15 non-null int64\n",
      "BLK.1          15 non-null int64\n",
      "TOV.1          15 non-null int64\n",
      "PF.1           15 non-null int64\n",
      "dtypes: float64(7), int64(30), object(4)\n",
      "memory usage: 4.9+ KB\n"
     ]
    }
   ],
   "source": [
    "stats['loss'].info()"
   ]
  },
  {
   "cell_type": "code",
   "execution_count": 6,
   "metadata": {
    "collapsed": false
   },
   "outputs": [
    {
     "ename": "NameError",
     "evalue": "name 't' is not defined",
     "output_type": "error",
     "traceback": [
      "\u001b[0;31m---------------------------------------------------------------------------\u001b[0m",
      "\u001b[0;31mNameError\u001b[0m                                 Traceback (most recent call last)",
      "\u001b[0;32m<ipython-input-6-28d212ad82b3>\u001b[0m in \u001b[0;36m<module>\u001b[0;34m()\u001b[0m\n\u001b[0;32m----> 1\u001b[0;31m \u001b[0mwins\u001b[0m \u001b[0;34m=\u001b[0m \u001b[0mt\u001b[0m\u001b[0;34m[\u001b[0m\u001b[0mt\u001b[0m\u001b[0;34m[\u001b[0m\u001b[0;34m\"W/L\"\u001b[0m\u001b[0;34m]\u001b[0m\u001b[0;34m==\u001b[0m\u001b[0;34m'W'\u001b[0m\u001b[0;34m]\u001b[0m\u001b[0;34m\u001b[0m\u001b[0m\n\u001b[0m\u001b[1;32m      2\u001b[0m \u001b[0mloss\u001b[0m \u001b[0;34m=\u001b[0m \u001b[0mt\u001b[0m\u001b[0;34m[\u001b[0m\u001b[0mt\u001b[0m\u001b[0;34m[\u001b[0m\u001b[0;34m'W/L'\u001b[0m\u001b[0;34m]\u001b[0m\u001b[0;34m==\u001b[0m\u001b[0;34m'L'\u001b[0m\u001b[0;34m]\u001b[0m\u001b[0;34m\u001b[0m\u001b[0m\n\u001b[1;32m      3\u001b[0m \u001b[0massist_w\u001b[0m\u001b[0;34m=\u001b[0m\u001b[0mt\u001b[0m\u001b[0;34m[\u001b[0m\u001b[0mt\u001b[0m\u001b[0;34m[\u001b[0m\u001b[0;34m'AST'\u001b[0m\u001b[0;34m]\u001b[0m\u001b[0;34m>\u001b[0m\u001b[0mt\u001b[0m\u001b[0;34m[\u001b[0m\u001b[0;34m'AST.1'\u001b[0m\u001b[0;34m]\u001b[0m\u001b[0;34m]\u001b[0m\u001b[0;34m\u001b[0m\u001b[0m\n\u001b[1;32m      4\u001b[0m \u001b[0massist_l\u001b[0m\u001b[0;34m=\u001b[0m\u001b[0mt\u001b[0m\u001b[0;34m[\u001b[0m\u001b[0mt\u001b[0m\u001b[0;34m[\u001b[0m\u001b[0;34m'AST'\u001b[0m\u001b[0;34m]\u001b[0m\u001b[0;34m<\u001b[0m\u001b[0mt\u001b[0m\u001b[0;34m[\u001b[0m\u001b[0;34m'AST.1'\u001b[0m\u001b[0;34m]\u001b[0m\u001b[0;34m]\u001b[0m\u001b[0;34m\u001b[0m\u001b[0m\n\u001b[1;32m      5\u001b[0m \u001b[0mtrebounds_w\u001b[0m\u001b[0;34m=\u001b[0m\u001b[0mt\u001b[0m\u001b[0;34m[\u001b[0m\u001b[0mt\u001b[0m\u001b[0;34m[\u001b[0m\u001b[0;34m'TRB'\u001b[0m\u001b[0;34m]\u001b[0m\u001b[0;34m>\u001b[0m\u001b[0mt\u001b[0m\u001b[0;34m[\u001b[0m\u001b[0;34m'TRB.1'\u001b[0m\u001b[0;34m]\u001b[0m\u001b[0;34m]\u001b[0m\u001b[0;34m\u001b[0m\u001b[0m\n",
      "\u001b[0;31mNameError\u001b[0m: name 't' is not defined"
     ]
    }
   ],
   "source": [
    "wins = t[t[\"W/L\"]=='W']\n",
    "loss = t[t['W/L']=='L']\n",
    "assist_w=t[t['AST']>t['AST.1']]\n",
    "assist_l=t[t['AST']<t['AST.1']]\n",
    "trebounds_w=t[t['TRB']>t['TRB.1']]\n",
    "trebounds_l=t[t['TRB']<t['TRB.1']]\n",
    "orb_w=t[t['ORB']>t['ORB.1']]\n",
    "orb_l=t[t['ORB']<t['ORB.1']]\n",
    "to_w=t[t['TOV']>t['TOV.1']]\n",
    "to_l=t[t['TOV']<t['TOV.1']]\n",
    "stl_w=t[t['STL']>t['STL.1']]\n",
    "stl_l=t[t['STL']<t['STL.1']]\n",
    "blk_w=t[t['BLK']>t['BLK.1']]\n",
    "blk_l=t[t['BLK']<t['BLK.1']]"
   ]
  },
  {
   "cell_type": "code",
   "execution_count": null,
   "metadata": {
    "collapsed": true
   },
   "outputs": [],
   "source": [
    "stats = {'Wins': wins['W/L'], \n",
    "        'Loss': loss['W/L'], \n",
    "        'Class': 'First',\n",
    "        'Age': 7, \n",
    "        'Class': 'First',\n",
    "        'Age': 7, \n",
    "        'Class': 'First',\n",
    "        'Age': 7, \n",
    "        'Class': 'First',\n",
    "        'Age': 7, \n",
    "        'Class': 'First',\n",
    "        'Age': 7, \n",
    "        'Class': 'First'}"
   ]
  }
 ],
 "metadata": {
  "kernelspec": {
   "display_name": "Python [conda root]",
   "language": "python",
   "name": "conda-root-py"
  },
  "language_info": {
   "codemirror_mode": {
    "name": "ipython",
    "version": 3
   },
   "file_extension": ".py",
   "mimetype": "text/x-python",
   "name": "python",
   "nbconvert_exporter": "python",
   "pygments_lexer": "ipython3",
   "version": "3.5.2"
  }
 },
 "nbformat": 4,
 "nbformat_minor": 1
}
