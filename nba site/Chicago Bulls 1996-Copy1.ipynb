{
 "cells": [
  {
   "cell_type": "code",
   "execution_count": 1,
   "metadata": {
    "collapsed": true
   },
   "outputs": [],
   "source": [
    "import numpy as np\n",
    "import pandas as pd\n",
    "import matplotlib.pyplot as plt\n",
    "import matplotlib.style as style\n",
    "import json\n",
    "%matplotlib inline"
   ]
  },
  {
   "cell_type": "code",
   "execution_count": 2,
   "metadata": {
    "collapsed": false
   },
   "outputs": [
    {
     "data": {
      "text/html": [
       "<style>body {\n",
       "    margin: 0;\n",
       "    font-family: Helvetica;\n",
       "}\n",
       "table.dataframe {\n",
       "    border-collapse: collapse;\n",
       "    border: none;\n",
       "}\n",
       "table.dataframe tr {\n",
       "    border: none;\n",
       "}\n",
       "table.dataframe td, table.dataframe th {\n",
       "    margin: 0;\n",
       "    border: 1px solid white;\n",
       "    padding-left: 0.25em;\n",
       "    padding-right: 0.25em;\n",
       "}\n",
       "table.dataframe th:not(:empty) {\n",
       "    background-color: #fec;\n",
       "    text-align: left;\n",
       "    font-weight: normal;\n",
       "}\n",
       "table.dataframe tr:nth-child(2) th:empty {\n",
       "    border-left: none;\n",
       "    border-right: 1px dashed #888;\n",
       "}\n",
       "table.dataframe td {\n",
       "    border: 2px solid #ccf;\n",
       "    background-color: #f4f4ff;\n",
       "}\n",
       "h3 {\n",
       "    color: white;\n",
       "    background-color: black;\n",
       "    padding: 0.5em;\n",
       "}\n",
       "</style>"
      ],
      "text/plain": [
       "<IPython.core.display.HTML object>"
      ]
     },
     "execution_count": 2,
     "metadata": {},
     "output_type": "execute_result"
    }
   ],
   "source": [
    "from IPython.core.display import HTML\n",
    "css = open('style-table.css').read() + open('style-notebook.css').read()\n",
    "HTML('<style>{}</style>'.format(css))\n",
    "# learned from youtube video brandon rhodes on pandas"
   ]
  },
  {
   "cell_type": "code",
   "execution_count": 3,
   "metadata": {
    "collapsed": false
   },
   "outputs": [],
   "source": [
    "df = pd.read_csv('data/bulls1996.csv')"
   ]
  },
  {
   "cell_type": "code",
   "execution_count": 4,
   "metadata": {
    "collapsed": false
   },
   "outputs": [],
   "source": [
    "wins = df[df['W/L']=='W']\n",
    "loss = df[df['W/L']=='L']\n",
    "orebounds_won= df[df['ORB']>df['ORB.1']]\n",
    "orebounds_loss= df[df['ORB']<df['ORB.1']]\n",
    "trebounds_won= df[df['TRB']>df['TRB.1']]\n",
    "trebounds_loss= df[df['TRB']<df['TRB.1']]\n",
    "assist_won= df[df['AST']>df['AST.1']]\n",
    "assist_loss= df[df['AST']<df['AST.1']]\n",
    "turnover_w= df[df['TOV']>df['TOV.1']]\n",
    "turnover_l= df[df['TOV']<df['TOV.1']]\n",
    "steal_won= df[df['STL']>df['STL.1']]\n",
    "steal_loss= df[df['STL']<df['STL.1']]\n",
    "assist_won= df[df['AST']>df['AST.1']]\n",
    "assist_loss= df[df['AST']<df['AST.1']]\n",
    "blocks_won= df[df['BLK']>df['BLK.1']]\n",
    "blocks_loss= df[df['BLK']<df['BLK.1']]"
   ]
  },
  {
   "cell_type": "code",
   "execution_count": 5,
   "metadata": {
    "collapsed": false
   },
   "outputs": [],
   "source": [
    "wrebounds_won=trebounds_won[trebounds_won[\"W/L\"] ==\"W\"]\n",
    "wassist_won=assist_won[assist_won['W/L']=='W']\n",
    "astreb = assist_won[assist_won['TRB'] > assist_won['TRB.1']]\n",
    "astrebw = astreb[astreb['W/L']=='W']"
   ]
  },
  {
   "cell_type": "code",
   "execution_count": 6,
   "metadata": {
    "collapsed": false
   },
   "outputs": [],
   "source": [
    "wpct = (len(wrebounds_won)) / (len(trebounds_won))\n",
    "wwpct = (len(wassist_won)) / (len(assist_won))\n",
    "wwwpct = len(astrebw)/len(astreb)"
   ]
  },
  {
   "cell_type": "code",
   "execution_count": 8,
   "metadata": {
    "collapsed": false
   },
   "outputs": [
    {
     "name": "stdout",
     "output_type": "stream",
     "text": [
      "The Team won : 72 Games\n",
      "The Team lost : 10 Games\n",
      "\n",
      "The Team got more Assists than the Opponents: 67 Games\n",
      "The Team got less Assists than the Opponents: 13 Games\n",
      "\n",
      "The Team got more Rebounds the Opponents: 63 Games\n",
      "The Team got less Rebounds by the Opponents: 17 Games\n",
      "\n",
      "The Team got more Offensive Rebounds than the Opponents: 60 Games\n",
      "The Team got less Offensive Rebounds than the Opponents: 20 Games\n",
      "\n",
      "The Team Turned Over the Ball less than the opponents in: 63 Games\n",
      "The Team Turned Over the Ball more than the opponents in: 17 Games\n",
      "\n",
      "The Team got more Steals than the Opponents: 54 Games\n",
      "The Team got less Steals than the Opponents: 18 Games\n",
      "\n",
      "The Team got more Blocks than the Opponents: 38 Games\n",
      "The Team got less Blocks than the Opponents: 27 Games\n",
      "\n",
      "With the edge in Rebounding in, they were able to capitalize in 56 of 63\n",
      "A Percentage of 0.8888888888888888 percent\n",
      "\n",
      "With the edge in Assist in, they were able to capitalize in 61 of 67\n",
      "A Percentage of 0.9104477611940298 percent\n",
      "\n",
      "With the edge in Rebounding in and assist, they were able to capitalize in  50 of 54\n",
      "A Percentage of 0.9259259259259259 percent\n"
     ]
    }
   ],
   "source": [
    "print (\"The Team won :\", str(len(wins)), 'Games')\n",
    "print (\"The Team lost :\", str(len(loss)), 'Games')\n",
    "print ()\n",
    "print (\"The Team got more Assists than the Opponents:\", str(len(assist_won)), 'Games')\n",
    "print (\"The Team got less Assists than the Opponents:\", str(len(assist_loss)), 'Games')\n",
    "print()\n",
    "print (\"The Team got more Rebounds the Opponents:\", str(len(trebounds_won)), 'Games')\n",
    "print (\"The Team got less Rebounds by the Opponents:\", str(len(trebounds_loss)), 'Games')\n",
    "print()\n",
    "print (\"The Team got more Offensive Rebounds than the Opponents:\", str(len(orebounds_won)), 'Games')\n",
    "print (\"The Team got less Offensive Rebounds than the Opponents:\", str(len(orebounds_loss)), 'Games')\n",
    "print()\n",
    "print (\"The Team Turned Over the Ball less than the opponents in:\", str(len(trebounds_won)), 'Games')\n",
    "print (\"The Team Turned Over the Ball more than the opponents in:\", str(len(trebounds_loss)), 'Games')\n",
    "print()\n",
    "print (\"The Team got more Steals than the Opponents:\", str(len(steal_won)), 'Games')\n",
    "print (\"The Team got less Steals than the Opponents:\", str(len(steal_loss)), 'Games')\n",
    "print()\n",
    "print (\"The Team got more Blocks than the Opponents:\", str(len(blocks_won)), 'Games')\n",
    "print (\"The Team got less Blocks than the Opponents:\", str(len(blocks_loss)), 'Games')\n",
    "print()\n",
    "print(\"With the edge in Rebounding in, they were able to capitalize in\", str(len(wrebounds_won)), 'of' , str(len(trebounds_won)))\n",
    "print('A Percentage of', str(wpct), 'percent')\n",
    "print()\n",
    "print(\"With the edge in Assist in, they were able to capitalize in\", str(len(wassist_won)), 'of' , str(len(assist_won)))\n",
    "print('A Percentage of', str(wwpct), 'percent')\n",
    "print()\n",
    "print(\"With the edge in Rebounding in and assist, they were able to capitalize in \", str(len(astrebw)), 'of' , str(len(astreb)))\n",
    "print('A Percentage of', str(wwwpct), 'percent')\n",
    "\n"
   ]
  },
  {
   "cell_type": "code",
   "execution_count": 9,
   "metadata": {
    "collapsed": false
   },
   "outputs": [
    {
     "data": {
      "text/plain": [
       "<matplotlib.axes._subplots.AxesSubplot at 0x115235e80>"
      ]
     },
     "execution_count": 9,
     "metadata": {},
     "output_type": "execute_result"
    },
    {
     "data": {
      "image/png": "[encoded data removed]",
      "text/plain": [
       "<matplotlib.figure.Figure at 0x115238438>"
      ]
     },
     "metadata": {},
     "output_type": "display_data"
    }
   ],
   "source": [
    "df.plot(x='G',y='AST',kind='line')"
   ]
  },
  {
   "cell_type": "code",
   "execution_count": null,
   "metadata": {
    "collapsed": true
   },
   "outputs": [],
   "source": []
  },
  {
   "cell_type": "code",
   "execution_count": null,
   "metadata": {
    "collapsed": true
   },
   "outputs": [],
   "source": []
  },
  {
   "cell_type": "code",
   "execution_count": null,
   "metadata": {
    "collapsed": true
   },
   "outputs": [],
   "source": []
  }
 ],
 "metadata": {
  "anaconda-cloud": {},
  "kernelspec": {
   "display_name": "Python [conda root]",
   "language": "python",
   "name": "conda-root-py"
  },
  "language_info": {
   "codemirror_mode": {
    "name": "ipython",
    "version": 3
   },
   "file_extension": ".py",
   "mimetype": "text/x-python",
   "name": "python",
   "nbconvert_exporter": "python",
   "pygments_lexer": "ipython3",
   "version": "3.5.2"
  }
 },
 "nbformat": 4,
 "nbformat_minor": 1
}
