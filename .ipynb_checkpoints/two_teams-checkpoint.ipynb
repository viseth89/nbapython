{
 "cells": [
  {
   "cell_type": "code",
   "execution_count": 26,
   "metadata": {
    "collapsed": false
   },
   "outputs": [],
   "source": [
    "import matplotlib.pyplot as plt\n",
    "import matplotlib.style as style\n",
    "import pandas as pd\n",
    "\n",
    "\n",
    "# Creation of the Class Team to store all our data\n",
    "class Team:\n",
    "    def __init__(self, t):\n",
    "        self.wins = t[t[\"W/L\"]=='W']\n",
    "        self.loss = t[t['W/L']=='L']\n",
    "        self.assist_w=t[t['AST']>t['AST.1']]\n",
    "        self.assist_l=t[t['AST']<t['AST.1']]\n",
    "        self.trebounds_w=t[t['TRB']>t['TRB.1']]\n",
    "        self.trebounds_l=t[t['TRB']<t['TRB.1']]\n",
    "        self.orb_w=t[t['ORB']>t['ORB.1']]\n",
    "        self.orb_l=t[t['ORB']<t['ORB.1']]\n",
    "        self.to_w=t[t['TOV']>t['TOV.1']]\n",
    "        self.to_l=t[t['TOV']<t['TOV.1']]\n",
    "        self.stl_w=t[t['STL']>t['STL.1']]\n",
    "        self.stl_l=t[t['STL']<t['STL.1']]\n",
    "        self.blk_w=t[t['BLK']>t['BLK.1']]\n",
    "        self.blk_l=t[t['BLK']<t['BLK.1']]\n",
    "        self.wrebounds_w=self.trebounds_w[self.trebounds_w[\"W/L\"] ==\"W\"]\n",
    "        self.wassist_w=self.assist_w[self.assist_w['W/L']=='W']\n",
    "        self.astreb = self.assist_w[self.assist_w['TRB'] > self.assist_w['TRB.1']]\n",
    "        self.astrebw = self.astreb[self.astreb['W/L']=='W']\n",
    "        self.wpct = (len(self.wrebounds_w)) / (len(self.trebounds_w))\n",
    "        self.wwpct = (len(self.wassist_w)) / (len(self.assist_w))\n",
    "        self.wwwpct = len(self.astrebw)/len(self.astreb)\n",
    "                \n",
    "\n",
    "df1 = pd.DataFrame.from_csv('data/team1.csv')\n",
    "df2 = pd.DataFrame.from_csv('data/team2.csv')        \n",
    "teams = [df1,df2]\n",
    "read_teams=[]\n",
    "\n",
    "\n",
    "for df in teams:\n",
    "    team = Team(df)\n",
    "    read_teams.append(team)\n",
    "    \n",
    "\n",
    "team1 = read_teams[0]\n",
    "team2 = read_teams[1]\n",
    "\n"
   ]
  },
  {
   "cell_type": "code",
   "execution_count": null,
   "metadata": {
    "collapsed": true
   },
   "outputs": [],
   "source": []
  }
 ],
 "metadata": {
  "anaconda-cloud": {},
  "kernelspec": {
   "display_name": "Python [conda root]",
   "language": "python",
   "name": "conda-root-py"
  },
  "language_info": {
   "codemirror_mode": {
    "name": "ipython",
    "version": 3
   },
   "file_extension": ".py",
   "mimetype": "text/x-python",
   "name": "python",
   "nbconvert_exporter": "python",
   "pygments_lexer": "ipython3",
   "version": "3.5.2"
  }
 },
 "nbformat": 4,
 "nbformat_minor": 1
}
