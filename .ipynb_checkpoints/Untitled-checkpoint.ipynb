{
 "cells": [
  {
   "cell_type": "code",
   "execution_count": 1,
   "metadata": {
    "collapsed": true
   },
   "outputs": [],
   "source": [
    "import numpy as np\n",
    "import pandas as pd\n",
    "import matplotlib.pyplot as plt\n",
    "import matplotlib.style as style\n",
    "%matplotlib inline"
   ]
  },
  {
   "cell_type": "code",
   "execution_count": 2,
   "metadata": {
    "collapsed": false
   },
   "outputs": [
    {
     "data": {
      "text/html": [
       "<style>body {\n",
       "    margin: 0;\n",
       "    font-family: Helvetica;\n",
       "}\n",
       "table.dataframe {\n",
       "    border-collapse: collapse;\n",
       "    border: none;\n",
       "}\n",
       "table.dataframe tr {\n",
       "    border: none;\n",
       "}\n",
       "table.dataframe td, table.dataframe th {\n",
       "    margin: 0;\n",
       "    border: 1px solid white;\n",
       "    padding-left: 0.25em;\n",
       "    padding-right: 0.25em;\n",
       "}\n",
       "table.dataframe th:not(:empty) {\n",
       "    background-color: #fec;\n",
       "    text-align: left;\n",
       "    font-weight: normal;\n",
       "}\n",
       "table.dataframe tr:nth-child(2) th:empty {\n",
       "    border-left: none;\n",
       "    border-right: 1px dashed #888;\n",
       "}\n",
       "table.dataframe td {\n",
       "    border: 2px solid #ccf;\n",
       "    background-color: #f4f4ff;\n",
       "}\n",
       "h3 {\n",
       "    color: white;\n",
       "    background-color: black;\n",
       "    padding: 0.5em;\n",
       "}\n",
       "</style>"
      ],
      "text/plain": [
       "<IPython.core.display.HTML object>"
      ]
     },
     "execution_count": 2,
     "metadata": {},
     "output_type": "execute_result"
    }
   ],
   "source": [
    "from IPython.core.display import HTML\n",
    "css = open('style-table.css').read() + open('style-notebook.css').read()\n",
    "HTML('<style>{}</style>'.format(css))\n",
    "# learned from youtube video brandon rhodes on pandas"
   ]
  },
  {
   "cell_type": "code",
   "execution_count": 3,
   "metadata": {
    "collapsed": true
   },
   "outputs": [],
   "source": [
    "df = pd.read_csv('data/bulls1996.csv')"
   ]
  },
  {
   "cell_type": "code",
   "execution_count": 27,
   "metadata": {
    "collapsed": false
   },
   "outputs": [],
   "source": [
    "t = df"
   ]
  },
  {
   "cell_type": "code",
   "execution_count": 28,
   "metadata": {
    "collapsed": true
   },
   "outputs": [],
   "source": [
    "wins = t[t[\"W/L\"]=='W']\n",
    "loss = t[t['W/L']=='L']\n",
    "assist_w=t[t['AST']>t['AST.1']]\n",
    "assist_l=t[t['AST']<t['AST.1']]\n",
    "trebounds_w=t[t['TRB']>t['TRB.1']]\n",
    "trebounds_l=t[t['TRB']<t['TRB.1']]\n",
    "orb_w=t[t['ORB']>t['ORB.1']]\n",
    "orb_l=t[t['ORB']<t['ORB.1']]\n",
    "to_w=t[t['TOV']>t['TOV.1']]\n",
    "to_l=t[t['TOV']<t['TOV.1']]\n",
    "stl_w=t[t['STL']>t['STL.1']]\n",
    "stl_l=t[t['STL']<t['STL.1']]\n",
    "blk_w=t[t['BLK']>t['BLK.1']]\n",
    "blk_l=t[t['BLK']<t['BLK.1']]"
   ]
  },
  {
   "cell_type": "code",
   "execution_count": 11,
   "metadata": {
    "collapsed": true
   },
   "outputs": [],
   "source": [
    "dfw = df[df['W/L'] == 'W']"
   ]
  },
  {
   "cell_type": "code",
   "execution_count": 29,
   "metadata": {
    "collapsed": false
   },
   "outputs": [
    {
     "ename": "SyntaxError",
     "evalue": "EOL while scanning string literal (<ipython-input-29-1e3d30c86271>, line 2)",
     "output_type": "error",
     "traceback": [
      "\u001b[0;36m  File \u001b[0;32m\"<ipython-input-29-1e3d30c86271>\"\u001b[0;36m, line \u001b[0;32m2\u001b[0m\n\u001b[0;31m    'Loss': loss['W/L],\u001b[0m\n\u001b[0m                        ^\u001b[0m\n\u001b[0;31mSyntaxError\u001b[0m\u001b[0;31m:\u001b[0m EOL while scanning string literal\n"
     ]
    }
   ],
   "source": [
    "stats = {'Wins': wins['W/L'], \n",
    "        'Loss': loss['W/L], \n",
    "        'Class': 'First',\n",
    "        'Age': 7, \n",
    "        'Class': 'First',\n",
    "        'Age': 7, \n",
    "        'Class': 'First',\n",
    "        'Age': 7, \n",
    "        'Class': 'First',\n",
    "        'Age': 7, \n",
    "        'Class': 'First',\n",
    "        'Age': 7, \n",
    "        'Class': 'First'}"
   ]
  },
  {
   "cell_type": "code",
   "execution_count": 20,
   "metadata": {
    "collapsed": true
   },
   "outputs": [
    {
     "data": {
      "text/plain": [
       "0     W\n",
       "1     W\n",
       "2     W\n",
       "3     W\n",
       "4     W\n",
       "5     W\n",
       "6     W\n",
       "7     W\n",
       "8     W\n",
       "9     W\n",
       "10    W\n",
       "11    W\n",
       "13    W\n",
       "14    W\n",
       "15    W\n",
       "16    W\n",
       "17    W\n",
       "20    W\n",
       "21    W\n",
       "22    W\n",
       "23    W\n",
       "24    W\n",
       "25    W\n",
       "26    W\n",
       "27    W\n",
       "29    W\n",
       "30    W\n",
       "31    W\n",
       "32    W\n",
       "33    W\n",
       "     ..\n",
       "44    W\n",
       "45    W\n",
       "46    W\n",
       "48    W\n",
       "49    W\n",
       "50    W\n",
       "51    W\n",
       "52    W\n",
       "53    W\n",
       "54    W\n",
       "56    W\n",
       "57    W\n",
       "58    W\n",
       "59    W\n",
       "61    W\n",
       "62    W\n",
       "64    W\n",
       "65    W\n",
       "66    W\n",
       "67    W\n",
       "68    W\n",
       "69    W\n",
       "70    W\n",
       "71    W\n",
       "73    W\n",
       "74    W\n",
       "75    W\n",
       "76    W\n",
       "77    W\n",
       "79    W\n",
       "Name: W/L, dtype: object"
      ]
     },
     "execution_count": 20,
     "metadata": {},
     "output_type": "execute_result"
    }
   ],
   "source": [
    "adfw['W/L']"
   ]
  },
  {
   "cell_type": "code",
   "execution_count": 21,
   "metadata": {
    "collapsed": false,
    "scrolled": true
   },
   "outputs": [],
   "source": [
    "dict = {'Wins': dfw['W/L'], \n",
    "        'Age': 7, \n",
    "        'Class': 'First'\n",
    "        'Age': 7, \n",
    "        'Class': 'First'\n",
    "        'Age': 7, \n",
    "        'Class': 'First'\n",
    "        'Age': 7, \n",
    "        'Class': 'First'\n",
    "        'Age': 7, \n",
    "        'Class': 'First'\n",
    "        'Age': 7, \n",
    "        'Class': 'First'}"
   ]
  },
  {
   "cell_type": "code",
   "execution_count": 26,
   "metadata": {
    "collapsed": false
   },
   "outputs": [
    {
     "data": {
      "text/plain": [
       "0     W\n",
       "1     W\n",
       "2     W\n",
       "3     W\n",
       "4     W\n",
       "5     W\n",
       "6     W\n",
       "7     W\n",
       "8     W\n",
       "9     W\n",
       "10    W\n",
       "11    W\n",
       "13    W\n",
       "14    W\n",
       "15    W\n",
       "16    W\n",
       "17    W\n",
       "20    W\n",
       "21    W\n",
       "22    W\n",
       "23    W\n",
       "24    W\n",
       "25    W\n",
       "26    W\n",
       "27    W\n",
       "29    W\n",
       "30    W\n",
       "31    W\n",
       "32    W\n",
       "33    W\n",
       "     ..\n",
       "44    W\n",
       "45    W\n",
       "46    W\n",
       "48    W\n",
       "49    W\n",
       "50    W\n",
       "51    W\n",
       "52    W\n",
       "53    W\n",
       "54    W\n",
       "56    W\n",
       "57    W\n",
       "58    W\n",
       "59    W\n",
       "61    W\n",
       "62    W\n",
       "64    W\n",
       "65    W\n",
       "66    W\n",
       "67    W\n",
       "68    W\n",
       "69    W\n",
       "70    W\n",
       "71    W\n",
       "73    W\n",
       "74    W\n",
       "75    W\n",
       "76    W\n",
       "77    W\n",
       "79    W\n",
       "Name: W/L, dtype: object"
      ]
     },
     "execution_count": 26,
     "metadata": {},
     "output_type": "execute_result"
    }
   ],
   "source": [
    "dict['Wins']"
   ]
  },
  {
   "cell_type": "code",
   "execution_count": null,
   "metadata": {
    "collapsed": true
   },
   "outputs": [],
   "source": []
  },
  {
   "cell_type": "code",
   "execution_count": null,
   "metadata": {
    "collapsed": true
   },
   "outputs": [],
   "source": []
  },
  {
   "cell_type": "code",
   "execution_count": null,
   "metadata": {
    "collapsed": true
   },
   "outputs": [],
   "source": []
  },
  {
   "cell_type": "code",
   "execution_count": null,
   "metadata": {
    "collapsed": true
   },
   "outputs": [],
   "source": []
  },
  {
   "cell_type": "code",
   "execution_count": null,
   "metadata": {
    "collapsed": true
   },
   "outputs": [],
   "source": []
  }
 ],
 "metadata": {
  "kernelspec": {
   "display_name": "Python [conda root]",
   "language": "python",
   "name": "conda-root-py"
  },
  "language_info": {
   "codemirror_mode": {
    "name": "ipython",
    "version": 3
   },
   "file_extension": ".py",
   "mimetype": "text/x-python",
   "name": "python",
   "nbconvert_exporter": "python",
   "pygments_lexer": "ipython3",
   "version": "3.5.2"
  }
 },
 "nbformat": 4,
 "nbformat_minor": 1
}
